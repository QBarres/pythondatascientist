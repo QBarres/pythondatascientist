{
 "cells": [
  {
   "cell_type": "markdown",
   "metadata": {},
   "source": [
    "# Chapitre 6 - Différentes utilisations du machine learning avec Python (3ème partie)"
   ]
  },
  {
   "cell_type": "markdown",
   "metadata": {},
   "source": [
    "## 6.6 L’analyse textuelle avec Python\n",
    "### 6.6.1 Les données textuelles en Python\n",
    "\n",
    "Le traitement des donnés textuelles et de la sémantique sont en expansion permanente.\n",
    "\n",
    "Les données textuelles sont la première source de données non structurées que nous pouvons traiter. Python possède tous les outils pour transformer des\n",
    "données brutes en données prêtes à être traitées par des algorithmes de machine\n",
    "learning. \n",
    "\n",
    "Elles sont fréquemment utilisées notamment pour l’analyse de sentiments, la fouille de textes, le text mining…\n",
    "\n",
    "Nous allons détailler les différentes étapes pour préparer des données textuelles\n",
    "afin de les intégrer dans des algorithmes de machine learning. Il va vous falloir de\n",
    "nouveaux outils."
   ]
  },
  {
   "cell_type": "code",
   "execution_count": 1,
   "metadata": {},
   "outputs": [],
   "source": [
    "import nltk\n",
    "#nltk.download()"
   ]
  },
  {
   "cell_type": "markdown",
   "metadata": {},
   "source": [
    "La fenêtre suivante s’ouvre :  \n",
    "<img src=\"../other/NLTK-downloader.png\" alt=\"NLTK downloader\" style=\"width: 200px;\"/>\n",
    "    \n",
    "\n",
    "Vous pouvez télécharger tous les packages, ceci ne demande pas beaucoup de mémoire. Il faut néanmoins être connecté à Internet et avoir\n",
    "une connexion permettant de récupérer quelques centaines de méga-octets de données.\n",
    "Tous ces packages comprennent des collections, des corpus et des modèles qui\n",
    "pourront vous servir dans votre approfondissement de NLTK.\n",
    "\n",
    "Vous trouverez de nombreuses informations ici : https://www.nltk.org/"
   ]
  },
  {
   "cell_type": "markdown",
   "metadata": {},
   "source": [
    "### 6.6.2 Le prétraitement des données\n",
    "La première étape est de transformer les données brutes en données structurées,\n",
    "nous allons avoir de nombreuses approches mais il faut dans un premier temps\n",
    "simplifier les chaînes de caractères en leur appliquant des transformations adaptées\n",
    "aux besoins.\n",
    "\n",
    "Dans le cadre de cet exemple, nous allons extraire les thèmes clés d’une page\n",
    "web. Nous travaillons sur la page Wikipédia en français dédiée au langage Python."
   ]
  },
  {
   "cell_type": "markdown",
   "metadata": {},
   "source": [
    "#### 1re étape : tokeniser\n",
    "Il est souvent utile d’extraire des mots ou des phrases d’un texte, cette action est\n",
    "appelée « tokeniser les données ».\n",
    "\n",
    "Tous les outils de NLTK sont disponibles en anglais mais un certain nombre sont\n",
    "aussi disponibles en français.\n",
    "\n",
    "Le code suivant va utiliser le package Beautiful-Soup dont nous avons déjà parlé lors\n",
    "de l’importation de données dans le chapitre 4. Nous allons récupérer les données\n",
    "d’une page web directement dans une seule chaîne de caractères :"
   ]
  },
  {
   "cell_type": "code",
   "execution_count": 2,
   "metadata": {},
   "outputs": [
    {
     "name": "stdout",
     "output_type": "stream",
     "text": [
      "<class 'str'>,57925\n"
     ]
    }
   ],
   "source": [
    "from bs4 import BeautifulSoup\n",
    "import urllib.request\n",
    "# on récupère dans reponse les données de la page\n",
    "reponse = urllib.request.urlopen( 'https://fr.wikipedia.org/wiki/Python_(langage)')\n",
    "# on extrait le texte en html\n",
    "html = reponse.read()\n",
    "# on crée un objet de la classe BeautifulSoup pour\n",
    "# traiter le code html\n",
    "soup = BeautifulSoup(html,\"html5lib\")\n",
    "# on récupère tout le code à partir d’une balise à partri de\n",
    "# laquelle on s’intéresse aux données\n",
    "tag = soup.find('div', {'class' : 'mw-parser-output'})\n",
    "# on extrait le text du code\n",
    "text=tag.text\n",
    "\n",
    "print(type(text),len(text), sep=\",\")"
   ]
  },
  {
   "cell_type": "markdown",
   "metadata": {},
   "source": [
    "Notre objectif est maintenant d’extraire les mots de cette chaîne. Nous pouvons\n",
    "utiliser :"
   ]
  },
  {
   "cell_type": "code",
   "execution_count": 3,
   "metadata": {},
   "outputs": [
    {
     "name": "stdout",
     "output_type": "stream",
     "text": [
      "<class 'list'> 10837\n"
     ]
    }
   ],
   "source": [
    "tokens=nltk.word_tokenize(text.lower(),language=\"french\")\n",
    "print(type(tokens),len(tokens))"
   ]
  },
  {
   "cell_type": "markdown",
   "metadata": {},
   "source": [
    "On obtient donc une liste de 8 397 tokens qui sont des groupes de caractères\n",
    "en minuscules. Si on regarde ces termes en utilisant la classe FreqDist qui nous\n",
    "permet d’étudier les fréquences, on a :"
   ]
  },
  {
   "cell_type": "code",
   "execution_count": 4,
   "metadata": {},
   "outputs": [
    {
     "data": {
      "text/plain": [
       "[(',', 544),\n",
       " ('de', 371),\n",
       " ('(', 242),\n",
       " (')', 242),\n",
       " ('.', 232),\n",
       " ('python', 217),\n",
       " ('[', 163),\n",
       " (']', 163),\n",
       " ('le', 162),\n",
       " ('la', 161)]"
      ]
     },
     "execution_count": 4,
     "metadata": {},
     "output_type": "execute_result"
    }
   ],
   "source": [
    "freq = nltk.FreqDist(tokens)\n",
    "freq.most_common(10)"
   ]
  },
  {
   "cell_type": "markdown",
   "metadata": {},
   "source": [
    "On voit bien que la plupart des mots sont inintéressants.\n",
    "\n",
    "#### 2e étape : Nettoyage des mots peu importants\n",
    "\n",
    "Débarrassons-nous de ce qu’on appelle les stopwords. Il s’agit de mots courants\n",
    "qui n’ont pas d’influence sur le sens du texte.\n",
    "NLTK possède une liste de stopwords en français. Nous allons de plus ajouter des\n",
    "termes spécifiques et enlever la ponctuation résiduelle en utilisant le module string de Python :"
   ]
  },
  {
   "cell_type": "code",
   "execution_count": 5,
   "metadata": {},
   "outputs": [],
   "source": [
    "%matplotlib inline\n",
    "from nltk.corpus import stopwords\n",
    "import string"
   ]
  },
  {
   "cell_type": "code",
   "execution_count": 6,
   "metadata": {},
   "outputs": [
    {
     "data": {
      "image/png": "[encoded data removed]",
      "text/plain": [
       "<Figure size 432x288 with 1 Axes>"
      ]
     },
     "metadata": {
      "needs_background": "light"
     },
     "output_type": "display_data"
    }
   ],
   "source": [
    "# création d’une liste de mots, combinée à des mots personnalisés\n",
    "# et à la liste de ponctuation\n",
    "sr = stopwords.words('french')+['les','a','il','↑','«','»','·','``']\\\n",
    "            +list(string.punctuation)\n",
    "\n",
    "# on crée tokens_propres qui consiste en tokens duquel on a retiré les tokens\n",
    "# indésirables\n",
    "tokens_propres = [i for i in tokens if i not in sr]\n",
    "# on crée un objet pour calculer les fréquences et on affiche le graphique\n",
    "freq = nltk.FreqDist(tokens_propres)\n",
    "freq.plot(20, title=\"Fréquence des mots dans la page\")"
   ]
  },
  {
   "cell_type": "markdown",
   "metadata": {},
   "source": [
    "On obtient un graphique de distribution des mots. On voit que\n",
    "dans cette page sur le langage Python, on retrouve de nombreux mots clés de cet\n",
    "ouvrage."
   ]
  },
  {
   "cell_type": "markdown",
   "metadata": {},
   "source": [
    "On peut aussi utiliser d’autres outils de NLTK tel que sent_tokenize qui va extraire\n",
    "des phrases. On peut récupérer des synonymes, par exemple, en utilisant le package\n",
    "de NLTK nommé WordNet qui possède aussi des synonymes en français."
   ]
  },
  {
   "cell_type": "markdown",
   "metadata": {},
   "source": [
    "Jusqu’ici nous avons fait en sorte de transformer des données textuelles non structurées\n",
    "afin d’éliminer des informations peu importantes et de les structurer. Ce que\n",
    "nous voulons faire maintenant, c’est traiter ce type de données avec du machine\n",
    "learning."
   ]
  },
  {
   "cell_type": "markdown",
   "metadata": {},
   "source": [
    "### 6.6.3 La mise en place d’un premier modèle prédictif\n",
    "\n",
    "Nous allons donc partir d’un exemple pratique simple, il s’agit de construire un filtre\n",
    "anti SMS indésirables (spam) pour notre téléphone portable.\n",
    "\n",
    "L’identification des messages non désirables se base sur des techniques d’apprentissage\n",
    "combinées à un prétraitement des données.\n",
    "\n",
    "Nous commençons par récupérer des données (disponibles sur le site associé à\n",
    "l’ouvrage). Ces données sont décrites plus en détail au début du chapitre 4 :"
   ]
  },
  {
   "cell_type": "code",
   "execution_count": 1,
   "metadata": {},
   "outputs": [
    {
     "name": "stderr",
     "output_type": "stream",
     "text": [
      "C:\\Users\\s4d-asus-14\\Anaconda3\\lib\\site-packages\\ipykernel_launcher.py:4: FutureWarning: read_table is deprecated, use read_csv instead, passing sep='\\t'.\n",
      "  after removing the cwd from sys.path.\n"
     ]
    },
    {
     "data": {
      "text/plain": [
       "ham     4825\n",
       "spam     747\n",
       "Name: label, dtype: int64"
      ]
     },
     "execution_count": 1,
     "metadata": {},
     "output_type": "execute_result"
    }
   ],
   "source": [
    "import pandas as pd\n",
    "# recuperation des données\n",
    "data_sms=pd.read_table(\"../data/SMSSpamCollection\",\n",
    "                       names=[\"label\", \"message\"])\n",
    "# statistique des labels\n",
    "data_sms[\"label\"].value_counts()"
   ]
  },
  {
   "cell_type": "markdown",
   "metadata": {},
   "source": [
    "Scikit-Learn propose des classes pour ces deux approches mais comme on les\n",
    "combine généralement, on préfère utiliser la classe TfidfVectorizer :"
   ]
  },
  {
   "cell_type": "code",
   "execution_count": 2,
   "metadata": {},
   "outputs": [],
   "source": [
    "from sklearn.preprocessing import LabelEncoder\n",
    "# on commence par transformer notre variable à prédire en variable binaire\n",
    "encode_y=LabelEncoder()\n",
    "y=encode_y.fit_transform(data_sms[\"label\"])"
   ]
  },
  {
   "cell_type": "code",
   "execution_count": 3,
   "metadata": {},
   "outputs": [],
   "source": [
    "# on sépare en apprentissage/validation\n",
    "from sklearn.model_selection import train_test_split\n",
    "\n",
    "x_train,x_test,y_train,y_test = train_test_split(data_sms[\"message\"],y,test_size=0.2)"
   ]
  },
  {
   "cell_type": "code",
   "execution_count": 4,
   "metadata": {},
   "outputs": [],
   "source": [
    "# on transforme en matrice creuse d’occurrence des mots (on transforme x_train\n",
    "# et on applique à x_test la transformation)\n",
    "from sklearn.feature_extraction.text import TfidfVectorizer\n",
    "\n",
    "trans_vect=TfidfVectorizer()\n",
    "\n",
    "x_train_trans=trans_vect.fit_transform(x_train)\n",
    "x_test_trans=trans_vect.transform(x_test)"
   ]
  },
  {
   "cell_type": "markdown",
   "metadata": {},
   "source": [
    "Une fois la transformation effectuée, nous pouvons appliquer un modèle prédictif\n",
    "sur les données obtenues afin d’apprendre les paramètres du modèle. On essayera\n",
    "le classifieur bayésien naïf et les support vector machines :"
   ]
  },
  {
   "cell_type": "code",
   "execution_count": 5,
   "metadata": {},
   "outputs": [],
   "source": [
    "from sklearn.naive_bayes import MultinomialNB\n",
    "from sklearn.svm import SVC\n",
    "# on définit deux modèles\n",
    "modele_bayes=MultinomialNB()\n",
    "modele_svm=SVC()"
   ]
  },
  {
   "cell_type": "code",
   "execution_count": 17,
   "metadata": {},
   "outputs": [
    {
     "name": "stderr",
     "output_type": "stream",
     "text": [
      "C:\\Users\\s4d-asus-14\\Anaconda3\\lib\\site-packages\\sklearn\\svm\\base.py:196: FutureWarning: The default value of gamma will change from 'auto' to 'scale' in version 0.22 to account better for unscaled features. Set gamma explicitly to 'auto' or 'scale' to avoid this warning.\n",
      "  \"avoid this warning.\", FutureWarning)\n"
     ]
    },
    {
     "data": {
      "text/plain": [
       "SVC(C=1.0, cache_size=200, class_weight=None, coef0=0.0,\n",
       "  decision_function_shape='ovr', degree=3, gamma='auto_deprecated',\n",
       "  kernel='rbf', max_iter=-1, probability=True, random_state=None,\n",
       "  shrinking=True, tol=0.001, verbose=False)"
      ]
     },
     "execution_count": 17,
     "metadata": {},
     "output_type": "execute_result"
    }
   ],
   "source": [
    "modele_bayes.fit(x_train_trans, y_train)\n",
    "modele_svm.fit(x_train_trans, y_train)"
   ]
  },
  {
   "cell_type": "code",
   "execution_count": 18,
   "metadata": {},
   "outputs": [
    {
     "name": "stdout",
     "output_type": "stream",
     "text": [
      "Accuracy pour naive Bayes: 0.9524663677130045\n"
     ]
    }
   ],
   "source": [
    "# on vérifie la qualité du modèle sur les données de vaildation\n",
    "from sklearn.metrics import roc_auc_score, accuracy_score, confusion_matrix\n",
    "print(\"Accuracy pour naive Bayes:\",\n",
    "accuracy_score(y_test, modele_bayes.predict(x_test_trans)))"
   ]
  },
  {
   "cell_type": "code",
   "execution_count": 19,
   "metadata": {},
   "outputs": [
    {
     "name": "stdout",
     "output_type": "stream",
     "text": [
      "Accuracy pour SVC : 0.863677130044843\n"
     ]
    }
   ],
   "source": [
    "print(\"Accuracy pour SVC :\", accuracy_score(y_test, modele_svm.predict(x_test_trans)))"
   ]
  },
  {
   "cell_type": "markdown",
   "metadata": {},
   "source": [
    "Il ressort que Naive Bayes est bien plus adapté.\n",
    "\n",
    "On va donc construire un pipeline de traitement :"
   ]
  },
  {
   "cell_type": "code",
   "execution_count": 16,
   "metadata": {},
   "outputs": [
    {
     "data": {
      "text/plain": [
       "Pipeline(memory=None,\n",
       "     steps=[('tfidfvectorizer', TfidfVectorizer(analyzer='word', binary=False, decode_error='strict',\n",
       "        dtype=<class 'numpy.float64'>, encoding='utf-8', input='content',\n",
       "        lowercase=True, max_df=1.0, max_features=None, min_df=1,\n",
       "        ngram_range=(1, 1), norm='l2', preprocessor=None, smooth...   vocabulary=None)), ('multinomialnb', MultinomialNB(alpha=1.0, class_prior=None, fit_prior=True))])"
      ]
     },
     "execution_count": 16,
     "metadata": {},
     "output_type": "execute_result"
    }
   ],
   "source": [
    "from sklearn.pipeline import make_pipeline\n",
    "import numpy as np\n",
    "# on construit un pipeline de traitement\n",
    "pipe_text=make_pipeline(TfidfVectorizer(),MultinomialNB())\n",
    "# on l’ajuste à toutes les données\n",
    "# sachant qu’on a déjà validé le modèle\n",
    "pipe_text.fit(data_sms[\"message\"],y)"
   ]
  },
  {
   "cell_type": "code",
   "execution_count": 17,
   "metadata": {},
   "outputs": [],
   "source": [
    "# on crée une fonction de filtre qui affiche un message\n",
    "def message_filter(message) :\n",
    "    arr_mess=np.array([message])\n",
    "    result=encode_y.inverse_transform(pipe_text.predict(arr_mess))[0]\n",
    "    print(\"The message you received is a :\", result)"
   ]
  },
  {
   "cell_type": "code",
   "execution_count": 18,
   "metadata": {},
   "outputs": [
    {
     "name": "stdout",
     "output_type": "stream",
     "text": [
      "The message you received is a : spam\n"
     ]
    }
   ],
   "source": [
    "# on appelle la fonction message_filter avec un nouveau message\n",
    "message_filter(\"URGENT, You are a Winner\")"
   ]
  },
  {
   "cell_type": "code",
   "execution_count": 19,
   "metadata": {},
   "outputs": [
    {
     "name": "stdout",
     "output_type": "stream",
     "text": [
      "The message you received is a : ham\n"
     ]
    }
   ],
   "source": [
    "message_filter(\"Hello, how are u?\")"
   ]
  },
  {
   "cell_type": "markdown",
   "metadata": {},
   "source": [
    "On a donc créé une fonction qui permet de prédire si n’importe quel message est\n",
    "un SMS indésirable. \n",
    "\n",
    "Il ne reste plus qu’à sauvegarder le modèle dans un fichier pickle pour une intégration dans un produit qui peut être une extension de votre\n",
    "application de messages."
   ]
  }
 ],
 "metadata": {
  "kernelspec": {
   "display_name": "Python 3",
   "language": "python",
   "name": "python3"
  },
  "language_info": {
   "codemirror_mode": {
    "name": "ipython",
    "version": 3
   },
   "file_extension": ".py",
   "mimetype": "text/x-python",
   "name": "python",
   "nbconvert_exporter": "python",
   "pygments_lexer": "ipython3",
   "version": "3.6.8"
  }
 },
 "nbformat": 4,
 "nbformat_minor": 2
}
